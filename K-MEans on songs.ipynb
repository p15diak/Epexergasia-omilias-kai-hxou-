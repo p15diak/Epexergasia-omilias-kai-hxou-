{
 "cells": [
  {
   "cell_type": "markdown",
   "metadata": {},
   "source": [
    "Ο σκοπός της εργασίας: Σκοπός της εργασίας είναι ο χρήστης να επιλέξει ένα τραγούδι από το dataset και να το εμφανιστούν τραγούδια τα οποία είναι κοντά στο τραγούδι που διάλεξε.Το συγκεκριμένο έγινε πράξη χρησιμοποιώντας των αλγόριθμο k-means.\n",
    "Αρχικά απο το dataset έκανα drop τα columns που δεν θα χρειαστούν,κρατώντας μόνο  (danceability  speechiness  acousticness  instrumentalness  liveness) δηλαδή τα audio features.\n",
    "Στην συνέχεια με τον υπολογισμό του elbow method βρίσκουμε τον αριθμό των clusters για να τρέξουμε το k-means στην καλύτερη περίπτωση (χρησιμοποιώντας τυχαία cendroids).\n",
    "Τέλος αφου τρέξουμε τον k-means δημιουργούμε dataframes για κάθε cluster\n"
   ]
  },
  {
   "cell_type": "code",
   "execution_count": 1,
   "metadata": {},
   "outputs": [],
   "source": [
    "import pandas as pd\n",
    "import numpy as np \n",
    "import matplotlib.pyplot as plt\n",
    "from sklearn.datasets import load_digits\n",
    "from sklearn.cluster import KMeans"
   ]
  },
  {
   "cell_type": "code",
   "execution_count": 2,
   "metadata": {},
   "outputs": [],
   "source": [
    "data = pd.read_csv('Desktop/top2018.csv') #Κανουμε import το dataset"
   ]
  },
  {
   "cell_type": "code",
   "execution_count": 3,
   "metadata": {},
   "outputs": [
    {
     "data": {
      "text/html": [
       "<div>\n",
       "<style scoped>\n",
       "    .dataframe tbody tr th:only-of-type {\n",
       "        vertical-align: middle;\n",
       "    }\n",
       "\n",
       "    .dataframe tbody tr th {\n",
       "        vertical-align: top;\n",
       "    }\n",
       "\n",
       "    .dataframe thead th {\n",
       "        text-align: right;\n",
       "    }\n",
       "</style>\n",
       "<table border=\"1\" class=\"dataframe\">\n",
       "  <thead>\n",
       "    <tr style=\"text-align: right;\">\n",
       "      <th></th>\n",
       "      <th>danceability</th>\n",
       "      <th>energy</th>\n",
       "      <th>key</th>\n",
       "      <th>loudness</th>\n",
       "      <th>mode</th>\n",
       "      <th>speechiness</th>\n",
       "      <th>acousticness</th>\n",
       "      <th>instrumentalness</th>\n",
       "      <th>liveness</th>\n",
       "      <th>valence</th>\n",
       "      <th>tempo</th>\n",
       "      <th>duration_ms</th>\n",
       "      <th>time_signature</th>\n",
       "    </tr>\n",
       "  </thead>\n",
       "  <tbody>\n",
       "    <tr>\n",
       "      <th>count</th>\n",
       "      <td>100.00000</td>\n",
       "      <td>100.000000</td>\n",
       "      <td>100.000000</td>\n",
       "      <td>100.000000</td>\n",
       "      <td>100.000000</td>\n",
       "      <td>100.000000</td>\n",
       "      <td>100.000000</td>\n",
       "      <td>100.000000</td>\n",
       "      <td>100.000000</td>\n",
       "      <td>100.000000</td>\n",
       "      <td>100.000000</td>\n",
       "      <td>100.000000</td>\n",
       "      <td>100.00</td>\n",
       "    </tr>\n",
       "    <tr>\n",
       "      <th>mean</th>\n",
       "      <td>0.71646</td>\n",
       "      <td>0.659060</td>\n",
       "      <td>5.330000</td>\n",
       "      <td>-5.677640</td>\n",
       "      <td>0.590000</td>\n",
       "      <td>0.115569</td>\n",
       "      <td>0.195701</td>\n",
       "      <td>0.001584</td>\n",
       "      <td>0.158302</td>\n",
       "      <td>0.484443</td>\n",
       "      <td>119.904180</td>\n",
       "      <td>205206.780000</td>\n",
       "      <td>3.98</td>\n",
       "    </tr>\n",
       "    <tr>\n",
       "      <th>std</th>\n",
       "      <td>0.13107</td>\n",
       "      <td>0.145067</td>\n",
       "      <td>3.676447</td>\n",
       "      <td>1.777577</td>\n",
       "      <td>0.494311</td>\n",
       "      <td>0.104527</td>\n",
       "      <td>0.220946</td>\n",
       "      <td>0.013449</td>\n",
       "      <td>0.111662</td>\n",
       "      <td>0.206145</td>\n",
       "      <td>28.795984</td>\n",
       "      <td>40007.893404</td>\n",
       "      <td>0.20</td>\n",
       "    </tr>\n",
       "    <tr>\n",
       "      <th>min</th>\n",
       "      <td>0.25800</td>\n",
       "      <td>0.296000</td>\n",
       "      <td>0.000000</td>\n",
       "      <td>-10.109000</td>\n",
       "      <td>0.000000</td>\n",
       "      <td>0.023200</td>\n",
       "      <td>0.000282</td>\n",
       "      <td>0.000000</td>\n",
       "      <td>0.021500</td>\n",
       "      <td>0.079600</td>\n",
       "      <td>64.934000</td>\n",
       "      <td>95467.000000</td>\n",
       "      <td>3.00</td>\n",
       "    </tr>\n",
       "    <tr>\n",
       "      <th>25%</th>\n",
       "      <td>0.63550</td>\n",
       "      <td>0.562000</td>\n",
       "      <td>1.750000</td>\n",
       "      <td>-6.650500</td>\n",
       "      <td>0.000000</td>\n",
       "      <td>0.045350</td>\n",
       "      <td>0.040225</td>\n",
       "      <td>0.000000</td>\n",
       "      <td>0.094675</td>\n",
       "      <td>0.341000</td>\n",
       "      <td>95.730750</td>\n",
       "      <td>184680.000000</td>\n",
       "      <td>4.00</td>\n",
       "    </tr>\n",
       "    <tr>\n",
       "      <th>50%</th>\n",
       "      <td>0.73300</td>\n",
       "      <td>0.678000</td>\n",
       "      <td>5.000000</td>\n",
       "      <td>-5.566500</td>\n",
       "      <td>1.000000</td>\n",
       "      <td>0.074950</td>\n",
       "      <td>0.109000</td>\n",
       "      <td>0.000000</td>\n",
       "      <td>0.118500</td>\n",
       "      <td>0.470500</td>\n",
       "      <td>120.116000</td>\n",
       "      <td>205047.500000</td>\n",
       "      <td>4.00</td>\n",
       "    </tr>\n",
       "    <tr>\n",
       "      <th>75%</th>\n",
       "      <td>0.79825</td>\n",
       "      <td>0.772250</td>\n",
       "      <td>8.250000</td>\n",
       "      <td>-4.363750</td>\n",
       "      <td>1.000000</td>\n",
       "      <td>0.137000</td>\n",
       "      <td>0.247750</td>\n",
       "      <td>0.000031</td>\n",
       "      <td>0.170750</td>\n",
       "      <td>0.641500</td>\n",
       "      <td>140.022750</td>\n",
       "      <td>221493.250000</td>\n",
       "      <td>4.00</td>\n",
       "    </tr>\n",
       "    <tr>\n",
       "      <th>max</th>\n",
       "      <td>0.96400</td>\n",
       "      <td>0.909000</td>\n",
       "      <td>11.000000</td>\n",
       "      <td>-2.384000</td>\n",
       "      <td>1.000000</td>\n",
       "      <td>0.530000</td>\n",
       "      <td>0.934000</td>\n",
       "      <td>0.134000</td>\n",
       "      <td>0.636000</td>\n",
       "      <td>0.931000</td>\n",
       "      <td>198.075000</td>\n",
       "      <td>417920.000000</td>\n",
       "      <td>5.00</td>\n",
       "    </tr>\n",
       "  </tbody>\n",
       "</table>\n",
       "</div>"
      ],
      "text/plain": [
       "       danceability      energy         key    loudness        mode  \\\n",
       "count     100.00000  100.000000  100.000000  100.000000  100.000000   \n",
       "mean        0.71646    0.659060    5.330000   -5.677640    0.590000   \n",
       "std         0.13107    0.145067    3.676447    1.777577    0.494311   \n",
       "min         0.25800    0.296000    0.000000  -10.109000    0.000000   \n",
       "25%         0.63550    0.562000    1.750000   -6.650500    0.000000   \n",
       "50%         0.73300    0.678000    5.000000   -5.566500    1.000000   \n",
       "75%         0.79825    0.772250    8.250000   -4.363750    1.000000   \n",
       "max         0.96400    0.909000   11.000000   -2.384000    1.000000   \n",
       "\n",
       "       speechiness  acousticness  instrumentalness    liveness     valence  \\\n",
       "count   100.000000    100.000000        100.000000  100.000000  100.000000   \n",
       "mean      0.115569      0.195701          0.001584    0.158302    0.484443   \n",
       "std       0.104527      0.220946          0.013449    0.111662    0.206145   \n",
       "min       0.023200      0.000282          0.000000    0.021500    0.079600   \n",
       "25%       0.045350      0.040225          0.000000    0.094675    0.341000   \n",
       "50%       0.074950      0.109000          0.000000    0.118500    0.470500   \n",
       "75%       0.137000      0.247750          0.000031    0.170750    0.641500   \n",
       "max       0.530000      0.934000          0.134000    0.636000    0.931000   \n",
       "\n",
       "            tempo    duration_ms  time_signature  \n",
       "count  100.000000     100.000000          100.00  \n",
       "mean   119.904180  205206.780000            3.98  \n",
       "std     28.795984   40007.893404            0.20  \n",
       "min     64.934000   95467.000000            3.00  \n",
       "25%     95.730750  184680.000000            4.00  \n",
       "50%    120.116000  205047.500000            4.00  \n",
       "75%    140.022750  221493.250000            4.00  \n",
       "max    198.075000  417920.000000            5.00  "
      ]
     },
     "execution_count": 3,
     "metadata": {},
     "output_type": "execute_result"
    }
   ],
   "source": [
    "data.describe() # μας δίνει κάποια γενικά στατιστικά του dataset"
   ]
  },
  {
   "cell_type": "code",
   "execution_count": 4,
   "metadata": {},
   "outputs": [
    {
     "data": {
      "text/html": [
       "<div>\n",
       "<style scoped>\n",
       "    .dataframe tbody tr th:only-of-type {\n",
       "        vertical-align: middle;\n",
       "    }\n",
       "\n",
       "    .dataframe tbody tr th {\n",
       "        vertical-align: top;\n",
       "    }\n",
       "\n",
       "    .dataframe thead th {\n",
       "        text-align: right;\n",
       "    }\n",
       "</style>\n",
       "<table border=\"1\" class=\"dataframe\">\n",
       "  <thead>\n",
       "    <tr style=\"text-align: right;\">\n",
       "      <th></th>\n",
       "      <th>id</th>\n",
       "      <th>name</th>\n",
       "      <th>artists</th>\n",
       "      <th>danceability</th>\n",
       "      <th>energy</th>\n",
       "      <th>key</th>\n",
       "      <th>loudness</th>\n",
       "      <th>mode</th>\n",
       "      <th>speechiness</th>\n",
       "      <th>acousticness</th>\n",
       "      <th>instrumentalness</th>\n",
       "      <th>liveness</th>\n",
       "      <th>valence</th>\n",
       "      <th>tempo</th>\n",
       "      <th>duration_ms</th>\n",
       "      <th>time_signature</th>\n",
       "    </tr>\n",
       "  </thead>\n",
       "  <tbody>\n",
       "    <tr>\n",
       "      <th>0</th>\n",
       "      <td>6DCZcSspjsKoFjzjrWoCd</td>\n",
       "      <td>God's Plan</td>\n",
       "      <td>Drake</td>\n",
       "      <td>0.754</td>\n",
       "      <td>0.449</td>\n",
       "      <td>7.0</td>\n",
       "      <td>-9.211</td>\n",
       "      <td>1.0</td>\n",
       "      <td>0.1090</td>\n",
       "      <td>0.0332</td>\n",
       "      <td>0.000083</td>\n",
       "      <td>0.552</td>\n",
       "      <td>0.357</td>\n",
       "      <td>77.169</td>\n",
       "      <td>198973.0</td>\n",
       "      <td>4.0</td>\n",
       "    </tr>\n",
       "    <tr>\n",
       "      <th>1</th>\n",
       "      <td>3ee8Jmje8o58CHK66QrVC</td>\n",
       "      <td>SAD!</td>\n",
       "      <td>XXXTENTACION</td>\n",
       "      <td>0.740</td>\n",
       "      <td>0.613</td>\n",
       "      <td>8.0</td>\n",
       "      <td>-4.880</td>\n",
       "      <td>1.0</td>\n",
       "      <td>0.1450</td>\n",
       "      <td>0.2580</td>\n",
       "      <td>0.003720</td>\n",
       "      <td>0.123</td>\n",
       "      <td>0.473</td>\n",
       "      <td>75.023</td>\n",
       "      <td>166606.0</td>\n",
       "      <td>4.0</td>\n",
       "    </tr>\n",
       "    <tr>\n",
       "      <th>2</th>\n",
       "      <td>0e7ipj03S05BNilyu5bRz</td>\n",
       "      <td>rockstar (feat. 21 Savage)</td>\n",
       "      <td>Post Malone</td>\n",
       "      <td>0.587</td>\n",
       "      <td>0.535</td>\n",
       "      <td>5.0</td>\n",
       "      <td>-6.090</td>\n",
       "      <td>0.0</td>\n",
       "      <td>0.0898</td>\n",
       "      <td>0.1170</td>\n",
       "      <td>0.000066</td>\n",
       "      <td>0.131</td>\n",
       "      <td>0.140</td>\n",
       "      <td>159.847</td>\n",
       "      <td>218147.0</td>\n",
       "      <td>4.0</td>\n",
       "    </tr>\n",
       "    <tr>\n",
       "      <th>3</th>\n",
       "      <td>3swc6WTsr7rl9DqQKQA55</td>\n",
       "      <td>Psycho (feat. Ty Dolla $ign)</td>\n",
       "      <td>Post Malone</td>\n",
       "      <td>0.739</td>\n",
       "      <td>0.559</td>\n",
       "      <td>8.0</td>\n",
       "      <td>-8.011</td>\n",
       "      <td>1.0</td>\n",
       "      <td>0.1170</td>\n",
       "      <td>0.5800</td>\n",
       "      <td>0.000000</td>\n",
       "      <td>0.112</td>\n",
       "      <td>0.439</td>\n",
       "      <td>140.124</td>\n",
       "      <td>221440.0</td>\n",
       "      <td>4.0</td>\n",
       "    </tr>\n",
       "    <tr>\n",
       "      <th>4</th>\n",
       "      <td>2G7V7zsVDxg1yRsu7Ew9R</td>\n",
       "      <td>In My Feelings</td>\n",
       "      <td>Drake</td>\n",
       "      <td>0.835</td>\n",
       "      <td>0.626</td>\n",
       "      <td>1.0</td>\n",
       "      <td>-5.833</td>\n",
       "      <td>1.0</td>\n",
       "      <td>0.1250</td>\n",
       "      <td>0.0589</td>\n",
       "      <td>0.000060</td>\n",
       "      <td>0.396</td>\n",
       "      <td>0.350</td>\n",
       "      <td>91.030</td>\n",
       "      <td>217925.0</td>\n",
       "      <td>4.0</td>\n",
       "    </tr>\n",
       "  </tbody>\n",
       "</table>\n",
       "</div>"
      ],
      "text/plain": [
       "                      id                          name       artists  \\\n",
       "0  6DCZcSspjsKoFjzjrWoCd                    God's Plan         Drake   \n",
       "1  3ee8Jmje8o58CHK66QrVC                          SAD!  XXXTENTACION   \n",
       "2  0e7ipj03S05BNilyu5bRz    rockstar (feat. 21 Savage)   Post Malone   \n",
       "3  3swc6WTsr7rl9DqQKQA55  Psycho (feat. Ty Dolla $ign)   Post Malone   \n",
       "4  2G7V7zsVDxg1yRsu7Ew9R                In My Feelings         Drake   \n",
       "\n",
       "   danceability  energy  key  loudness  mode  speechiness  acousticness  \\\n",
       "0         0.754   0.449  7.0    -9.211   1.0       0.1090        0.0332   \n",
       "1         0.740   0.613  8.0    -4.880   1.0       0.1450        0.2580   \n",
       "2         0.587   0.535  5.0    -6.090   0.0       0.0898        0.1170   \n",
       "3         0.739   0.559  8.0    -8.011   1.0       0.1170        0.5800   \n",
       "4         0.835   0.626  1.0    -5.833   1.0       0.1250        0.0589   \n",
       "\n",
       "   instrumentalness  liveness  valence    tempo  duration_ms  time_signature  \n",
       "0          0.000083     0.552    0.357   77.169     198973.0             4.0  \n",
       "1          0.003720     0.123    0.473   75.023     166606.0             4.0  \n",
       "2          0.000066     0.131    0.140  159.847     218147.0             4.0  \n",
       "3          0.000000     0.112    0.439  140.124     221440.0             4.0  \n",
       "4          0.000060     0.396    0.350   91.030     217925.0             4.0  "
      ]
     },
     "execution_count": 4,
     "metadata": {},
     "output_type": "execute_result"
    }
   ],
   "source": [
    "data.head() # εμφανίζει τα πρώτα rows του dataset "
   ]
  },
  {
   "cell_type": "code",
   "execution_count": 5,
   "metadata": {},
   "outputs": [],
   "source": [
    "name = list(data.iloc[:,1]) #δημιουργία λίστας με τα ονόματα καθώς θα τα χρησιμοποίσουμε αργότερα αφου αυτα θα είναι το όρισμα του χρήστη \n",
    "x=data.iloc[:,[3,8,9,10,11,]].values #εδώ έχουμε το dataset που χρειαζόμαστε έχουμε κρατήσει μόνο τα columns για να γίνει σωστά το clustering.Πάνω σε αυτό το dataset εφαρμόζουμε k-means "
   ]
  },
  {
   "cell_type": "code",
   "execution_count": 6,
   "metadata": {},
   "outputs": [
    {
     "name": "stdout",
     "output_type": "stream",
     "text": [
      "[\"God's Plan\", 'SAD!', 'rockstar (feat. 21 Savage)', 'Psycho (feat. Ty Dolla $ign)', 'In My Feelings', 'Better Now', 'I Like It', 'One Kiss (with Dua Lipa)', 'IDGAF', 'FRIENDS', 'Havana', 'Lucid Dreams', 'Nice For What', 'Girls Like You (feat. Cardi B)', 'The Middle', 'All The Stars (with SZA)', 'no tears left to cry', 'X', 'Moonlight', 'Look Alive (feat. Drake)', 'These Days (feat. Jess Glynne, Macklemore & Dan Caplen)', 'Te Bot? - Remix', 'Mine', 'Youngblood', 'New Rules', 'Shape of You', 'Love Lies (with Normani)', 'Meant to Be (feat. Florida Georgia Line)', 'Jocelyn Flores', 'Perfect', 'Taste (feat. Offset)', 'Solo (feat. Demi Lovato)', 'I Fall Apart', 'Nevermind', '?chame La Culpa', 'Eastside (with Halsey & Khalid)', 'Never Be the Same', 'Wolves', 'changes', 'In My Mind', 'River (feat. Ed Sheeran)', 'Dura', 'SICKO MODE', 'Thunder', 'Me Niego', 'Jackie Chan', 'Finesse (Remix) [feat. Cardi B]', 'Back To You - From 13 Reasons Why ? Season 2 Soundtrack', 'Let You Down', 'Call Out My Name', 'Ric Flair Drip (& Metro Boomin)', 'Happier', 'Too Good At Goodbyes', 'Freaky Friday (feat. Chris Brown)', 'Believer', 'FEFE (feat. Nicki Minaj & Murda Beatz)', 'Rise', 'Body (feat. brando)', 'XO TOUR Llif3', 'Sin Pijama', '2002', 'Nonstop', 'Fuck Love (feat. Trippie Redd)', 'In My Blood', 'Silence', 'God is a woman', 'D?jala que vuelva (feat. Manuel Turizo)', 'Flames', 'What Lovers Do', 'Taki Taki (with Selena Gomez, Ozuna & Cardi B)', 'Let Me Go (with Alesso, Florida Georgia Line & watt)', 'Feel It Still', 'Pray For Me (with Kendrick Lamar)', 'Walk It Talk It', 'Him & I (with Halsey)', 'Candy Paint', 'Congratulations', '1, 2, 3 (feat. Jason Derulo & De La Ghetto)', 'Criminal', 'Plug Walk', 'lovely (with Khalid)', 'Stir Fry', 'HUMBLE.', 'Vaina Loca', 'Perfect Duet (Ed Sheeran & Beyonc?)', 'Coraz?n (feat. Nego do Borel)', 'Young Dumb & Broke', 'S?guelo Bailando', 'Downtown', 'Bella', 'Promises (with Sam Smith)', 'Yes Indeed', 'I Like Me Better', 'This Is Me', 'Everybody Dies In Their Nightmares', 'Rewrite The Stars', 'I Miss You (feat. Julia Michaels)', 'No Brainer', 'Dusk Till Dawn - Radio Edit', 'Be Alright']\n"
     ]
    }
   ],
   "source": [
    "print(name)"
   ]
  },
  {
   "cell_type": "code",
   "execution_count": 7,
   "metadata": {},
   "outputs": [
    {
     "name": "stdout",
     "output_type": "stream",
     "text": [
      "[[7.54e-01 1.09e-01 3.32e-02 8.29e-05 5.52e-01]\n",
      " [7.40e-01 1.45e-01 2.58e-01 3.72e-03 1.23e-01]\n",
      " [5.87e-01 8.98e-02 1.17e-01 6.56e-05 1.31e-01]\n",
      " [7.39e-01 1.17e-01 5.80e-01 0.00e+00 1.12e-01]\n",
      " [8.35e-01 1.25e-01 5.89e-02 6.00e-05 3.96e-01]\n",
      " [6.80e-01 4.54e-02 3.54e-01 0.00e+00 1.36e-01]\n",
      " [8.16e-01 1.29e-01 9.90e-02 0.00e+00 3.72e-01]\n",
      " [7.91e-01 1.10e-01 3.70e-02 2.19e-05 8.14e-02]\n",
      " [8.36e-01 9.43e-02 4.03e-02 0.00e+00 8.24e-02]\n",
      " [6.26e-01 5.04e-02 2.05e-01 0.00e+00 1.28e-01]\n",
      " [7.65e-01 3.00e-02 1.84e-01 3.56e-05 1.32e-01]\n",
      " [5.11e-01 2.00e-01 3.49e-01 0.00e+00 3.40e-01]\n",
      " [5.86e-01 7.05e-02 8.91e-02 1.09e-04 1.19e-01]\n",
      " [8.51e-01 5.05e-02 5.68e-01 0.00e+00 1.30e-01]\n",
      " [7.53e-01 4.49e-02 1.71e-01 0.00e+00 1.12e-01]\n",
      " [6.98e-01 5.97e-02 6.05e-02 1.94e-04 9.26e-02]\n",
      " [6.99e-01 5.94e-02 4.00e-02 3.11e-06 2.94e-01]\n",
      " [5.95e-01 5.49e-02 3.64e-02 1.08e-03 3.34e-01]\n",
      " [9.21e-01 8.04e-02 5.56e-01 4.04e-03 1.02e-01]\n",
      " [9.22e-01 2.70e-01 1.04e-03 5.86e-05 1.05e-01]\n",
      " [6.53e-01 4.74e-02 1.94e-01 0.00e+00 1.65e-01]\n",
      " [9.03e-01 2.14e-01 5.42e-01 1.28e-05 5.95e-02]\n",
      " [7.10e-01 7.22e-02 1.61e-02 2.77e-06 4.51e-01]\n",
      " [5.96e-01 4.63e-01 1.69e-02 0.00e+00 1.24e-01]\n",
      " [7.62e-01 6.94e-02 2.61e-03 1.56e-05 1.53e-01]\n",
      " [8.25e-01 8.02e-02 5.81e-01 0.00e+00 9.31e-02]\n",
      " [7.08e-01 4.49e-02 9.56e-02 0.00e+00 1.34e-01]\n",
      " [6.42e-01 8.48e-02 4.76e-02 0.00e+00 6.46e-02]\n",
      " [8.72e-01 2.42e-01 4.69e-01 4.13e-06 2.97e-01]\n",
      " [5.99e-01 2.32e-02 1.63e-01 0.00e+00 1.06e-01]\n",
      " [8.84e-01 1.20e-01 2.36e-02 0.00e+00 1.01e-01]\n",
      " [7.37e-01 4.37e-02 4.41e-02 6.66e-05 3.50e-01]\n",
      " [5.56e-01 3.82e-02 6.89e-02 0.00e+00 1.96e-01]\n",
      " [5.92e-01 1.96e-01 1.56e-01 9.78e-06 4.18e-01]\n",
      " [7.26e-01 4.29e-02 3.28e-02 0.00e+00 9.25e-02]\n",
      " [5.60e-01 3.21e-01 5.55e-01 0.00e+00 1.16e-01]\n",
      " [6.37e-01 7.47e-02 1.81e-01 6.37e-04 1.37e-01]\n",
      " [7.20e-01 4.32e-02 1.29e-01 0.00e+00 1.83e-01]\n",
      " [6.69e-01 2.90e-02 8.83e-01 0.00e+00 9.84e-02]\n",
      " [6.94e-01 1.49e-01 1.76e-01 1.10e-05 1.18e-01]\n",
      " [7.48e-01 5.16e-01 1.42e-01 0.00e+00 7.13e-02]\n",
      " [7.91e-01 5.06e-02 1.83e-01 0.00e+00 4.09e-01]\n",
      " [8.34e-01 2.22e-01 5.13e-03 0.00e+00 1.24e-01]\n",
      " [6.05e-01 4.38e-02 6.71e-03 1.34e-01 1.47e-01]\n",
      " [7.77e-01 9.72e-02 5.43e-02 0.00e+00 6.36e-01]\n",
      " [7.47e-01 4.50e-02 3.74e-01 0.00e+00 5.86e-02]\n",
      " [7.04e-01 9.96e-02 1.85e-02 0.00e+00 2.15e-02]\n",
      " [6.01e-01 4.86e-02 9.45e-02 1.68e-06 1.20e-01]\n",
      " [6.56e-01 1.22e-01 2.98e-01 0.00e+00 1.73e-01]\n",
      " [4.89e-01 3.60e-02 2.18e-01 0.00e+00 3.50e-01]\n",
      " [8.80e-01 2.06e-01 1.49e-01 5.07e-05 1.14e-01]\n",
      " [6.87e-01 4.52e-02 1.91e-01 0.00e+00 1.67e-01]\n",
      " [6.98e-01 4.91e-02 6.52e-01 0.00e+00 1.73e-01]\n",
      " [7.55e-01 2.24e-01 1.47e-01 0.00e+00 1.09e-01]\n",
      " [7.76e-01 1.28e-01 6.22e-02 0.00e+00 8.10e-02]\n",
      " [9.31e-01 4.12e-01 8.80e-02 0.00e+00 1.36e-01]\n",
      " [6.87e-01 3.33e-02 3.27e-01 0.00e+00 2.03e-01]\n",
      " [7.52e-01 3.80e-02 4.76e-02 9.44e-05 5.43e-02]\n",
      " [7.32e-01 2.31e-01 2.64e-03 0.00e+00 1.09e-01]\n",
      " [7.91e-01 4.64e-02 3.54e-01 2.93e-05 1.04e-01]\n",
      " [6.97e-01 1.17e-01 3.72e-02 0.00e+00 1.37e-01]\n",
      " [9.12e-01 1.24e-01 1.64e-02 1.30e-02 1.04e-01]\n",
      " [7.97e-01 4.12e-02 1.72e-02 1.52e-04 1.03e-01]\n",
      " [6.22e-01 6.60e-02 5.73e-02 0.00e+00 1.30e-01]\n",
      " [5.20e-01 8.53e-02 2.56e-01 4.96e-06 1.70e-01]\n",
      " [6.02e-01 5.58e-02 2.33e-02 6.00e-05 2.37e-01]\n",
      " [6.81e-01 7.85e-02 4.82e-02 0.00e+00 7.53e-02]\n",
      " [6.31e-01 3.85e-02 8.17e-02 3.80e-06 9.34e-02]\n",
      " [7.99e-01 6.11e-02 7.88e-02 5.66e-06 1.00e-01]\n",
      " [8.41e-01 2.29e-01 1.53e-01 3.33e-06 6.18e-02]\n",
      " [6.63e-01 4.73e-02 3.37e-02 0.00e+00 8.41e-02]\n",
      " [8.01e-01 5.04e-02 4.17e-02 1.13e-04 7.17e-02]\n",
      " [7.35e-01 9.30e-02 7.62e-02 2.17e-05 1.11e-01]\n",
      " [9.09e-01 2.01e-01 7.39e-02 0.00e+00 1.08e-01]\n",
      " [5.89e-01 8.68e-02 5.34e-02 0.00e+00 3.08e-01]\n",
      " [6.70e-01 1.53e-01 6.27e-01 1.02e-06 7.10e-02]\n",
      " [6.30e-01 3.63e-02 2.15e-01 0.00e+00 2.53e-01]\n",
      " [7.92e-01 5.89e-02 1.65e-01 0.00e+00 5.01e-02]\n",
      " [8.14e-01 5.61e-02 3.00e-02 9.33e-05 2.55e-01]\n",
      " [8.76e-01 1.43e-01 2.02e-01 0.00e+00 1.08e-01]\n",
      " [3.51e-01 3.33e-02 9.34e-01 0.00e+00 9.50e-02]\n",
      " [8.15e-01 2.69e-01 2.99e-03 0.00e+00 1.59e-01]\n",
      " [9.08e-01 1.02e-01 2.82e-04 5.39e-05 9.58e-02]\n",
      " [7.54e-01 7.52e-02 3.15e-01 0.00e+00 2.03e-01]\n",
      " [5.87e-01 2.63e-02 7.79e-01 0.00e+00 1.23e-01]\n",
      " [7.22e-01 2.47e-01 3.28e-01 1.47e-05 1.98e-01]\n",
      " [7.98e-01 4.21e-02 1.99e-01 1.66e-05 1.65e-01]\n",
      " [8.55e-01 6.07e-02 1.65e-01 3.97e-05 9.37e-02]\n",
      " [7.75e-01 1.35e-01 1.80e-01 7.26e-05 6.80e-02]\n",
      " [9.09e-01 7.35e-02 1.28e-01 1.47e-04 1.27e-01]\n",
      " [7.81e-01 3.94e-02 1.19e-02 4.91e-06 3.25e-01]\n",
      " [9.64e-01 5.30e-01 3.50e-02 0.00e+00 1.08e-01]\n",
      " [7.52e-01 2.53e-01 5.35e-01 2.55e-06 1.04e-01]\n",
      " [2.84e-01 1.86e-01 5.83e-03 1.15e-04 4.24e-02]\n",
      " [7.34e-01 1.33e-01 8.47e-01 2.14e-05 1.12e-01]\n",
      " [6.84e-01 3.86e-02 7.16e-02 0.00e+00 1.22e-01]\n",
      " [6.38e-01 4.56e-02 2.45e-01 3.77e-06 9.19e-02]\n",
      " [5.52e-01 3.42e-01 7.33e-02 0.00e+00 8.65e-02]\n",
      " [2.58e-01 3.90e-02 1.01e-01 1.27e-06 1.06e-01]\n",
      " [5.53e-01 3.62e-02 6.97e-01 0.00e+00 8.13e-02]]\n"
     ]
    }
   ],
   "source": [
    "print(x)"
   ]
  },
  {
   "cell_type": "code",
   "execution_count": 8,
   "metadata": {},
   "outputs": [],
   "source": [
    "wcss =[] #Within cluster sum of squares "
   ]
  },
  {
   "cell_type": "code",
   "execution_count": 9,
   "metadata": {},
   "outputs": [],
   "source": [
    "for i in range(1,16):\n",
    "    kmeans=KMeans(n_clusters = i,init='k-means++',random_state=0) #Αρχικοποίηση  k-means με τυχαία κέντρα και αριθμό cluster\n",
    "    kmeans.fit(x)# εφαρμογή k-means στο dataset x\n",
    "    wcss.append(kmeans.inertia_)#inertia_ Μέθοδος που υπολογίζει το αθροισμα των τετραγωνισμένων αποστάσεων στα πιο κοντινά cendroids(κεντρα των cluster)"
   ]
  },
  {
   "cell_type": "markdown",
   "metadata": {},
   "source": [
    "Elbow-Method using WCSS ---Χρησιμοποιείται για να βρούμε τον αριθμό των cluster για καλυτερη ομαδοποίηση των δεδομένων \n",
    "    Mείωση του WCSS σημαίνει αύξηση της απόδοσης των ομάδων"
   ]
  },
  {
   "cell_type": "code",
   "execution_count": 10,
   "metadata": {},
   "outputs": [
    {
     "data": {
      "image/png": "[encoded data removed]",
      "text/plain": [
       "<Figure size 432x288 with 1 Axes>"
      ]
     },
     "metadata": {
      "needs_background": "light"
     },
     "output_type": "display_data"
    }
   ],
   "source": [
    "#Δημιουργία διαγραμμάτος\n",
    "plt.plot(range(1,16),wcss,'.-')\n",
    "plt.title(\"elbow method\")\n",
    "plt.xlabel(\"αριθμός των clusters\")\n",
    "plt.ylabel(\"wcss\")\n",
    "plt.show()"
   ]
  },
  {
   "cell_type": "code",
   "execution_count": 11,
   "metadata": {},
   "outputs": [],
   "source": [
    "kmeans =KMeans(n_clusters=4, init ='k-means++',random_state=0) #Αρχικοποίηση αλγόριθμου k-means με τον αριθμό των cluster που βρήκαμε απο την elbow method"
   ]
  },
  {
   "cell_type": "code",
   "execution_count": 12,
   "metadata": {},
   "outputs": [],
   "source": [
    "y=kmeans.fit_predict(x) #εφαρμογή αγλορίθμου στα δεδομένα,ουσιαστικά το y μας δείχνει σε ποιόν cluster ανήκει το κάθε τραγούδι"
   ]
  },
  {
   "cell_type": "code",
   "execution_count": 13,
   "metadata": {},
   "outputs": [
    {
     "name": "stdout",
     "output_type": "stream",
     "text": [
      "[0 3 3 2 0 3 0 1 1 3 3 3 3 2 3 3 0 0 2 1 3 2 0 1 1 2 3 3 2 3 1 0 3 0 1 2 3\n",
      " 3 2 3 1 0 1 3 0 3 1 3 3 3 1 3 2 1 1 1 3 1 1 3 1 1 1 3 3 3 3 3 1 1 3 1 1 1\n",
      " 0 2 3 1 0 1 2 1 1 3 2 3 3 1 1 1 0 1 2 3 2 3 3 3 3 2]\n"
     ]
    }
   ],
   "source": [
    "print(y)"
   ]
  },
  {
   "cell_type": "code",
   "execution_count": 14,
   "metadata": {},
   "outputs": [],
   "source": [
    "df = pd.DataFrame({'cluster': y, 'name': name})#Συνδέουμε τα ονόματα των τραγουδίων που είχαμε κραατήσει παραπάνω με τον πίνακα y"
   ]
  },
  {
   "cell_type": "code",
   "execution_count": 15,
   "metadata": {},
   "outputs": [
    {
     "name": "stdout",
     "output_type": "stream",
     "text": [
      "    cluster                                               name\n",
      "0         0                                         God's Plan\n",
      "1         3                                               SAD!\n",
      "2         3                         rockstar (feat. 21 Savage)\n",
      "3         2                       Psycho (feat. Ty Dolla $ign)\n",
      "4         0                                     In My Feelings\n",
      "5         3                                         Better Now\n",
      "6         0                                          I Like It\n",
      "7         1                           One Kiss (with Dua Lipa)\n",
      "8         1                                              IDGAF\n",
      "9         3                                            FRIENDS\n",
      "10        3                                             Havana\n",
      "11        3                                       Lucid Dreams\n",
      "12        3                                      Nice For What\n",
      "13        2                     Girls Like You (feat. Cardi B)\n",
      "14        3                                         The Middle\n",
      "15        3                           All The Stars (with SZA)\n",
      "16        0                               no tears left to cry\n",
      "17        0                                                  X\n",
      "18        2                                          Moonlight\n",
      "19        1                           Look Alive (feat. Drake)\n",
      "20        3  These Days (feat. Jess Glynne, Macklemore & Da...\n",
      "21        2                                    Te Bot? - Remix\n",
      "22        0                                               Mine\n",
      "23        1                                         Youngblood\n",
      "24        1                                          New Rules\n",
      "25        2                                       Shape of You\n",
      "26        3                           Love Lies (with Normani)\n",
      "27        3           Meant to Be (feat. Florida Georgia Line)\n",
      "28        2                                     Jocelyn Flores\n",
      "29        3                                            Perfect\n",
      "..      ...                                                ...\n",
      "70        3  Let Me Go (with Alesso, Florida Georgia Line &...\n",
      "71        1                                      Feel It Still\n",
      "72        1                  Pray For Me (with Kendrick Lamar)\n",
      "73        1                                    Walk It Talk It\n",
      "74        0                              Him & I (with Halsey)\n",
      "75        2                                        Candy Paint\n",
      "76        3                                    Congratulations\n",
      "77        1        1, 2, 3 (feat. Jason Derulo & De La Ghetto)\n",
      "78        0                                           Criminal\n",
      "79        1                                          Plug Walk\n",
      "80        2                               lovely (with Khalid)\n",
      "81        1                                           Stir Fry\n",
      "82        1                                            HUMBLE.\n",
      "83        3                                         Vaina Loca\n",
      "84        2                Perfect Duet (Ed Sheeran & Beyonc?)\n",
      "85        3                      Coraz?n (feat. Nego do Borel)\n",
      "86        3                                 Young Dumb & Broke\n",
      "87        1                                   S?guelo Bailando\n",
      "88        1                                           Downtown\n",
      "89        1                                              Bella\n",
      "90        0                          Promises (with Sam Smith)\n",
      "91        1                                         Yes Indeed\n",
      "92        2                                   I Like Me Better\n",
      "93        3                                         This Is Me\n",
      "94        2                 Everybody Dies In Their Nightmares\n",
      "95        3                                  Rewrite The Stars\n",
      "96        3                  I Miss You (feat. Julia Michaels)\n",
      "97        3                                         No Brainer\n",
      "98        3                        Dusk Till Dawn - Radio Edit\n",
      "99        2                                         Be Alright\n",
      "\n",
      "[100 rows x 2 columns]\n"
     ]
    }
   ],
   "source": [
    "print(df)"
   ]
  },
  {
   "cell_type": "code",
   "execution_count": 16,
   "metadata": {},
   "outputs": [],
   "source": [
    "cluster0 = df[df[\"cluster\"]==0] #Δημιουργούμε το dataframe για τον cluster0 "
   ]
  },
  {
   "cell_type": "code",
   "execution_count": 17,
   "metadata": {},
   "outputs": [
    {
     "name": "stdout",
     "output_type": "stream",
     "text": [
      "    cluster                       name\n",
      "0         0                 God's Plan\n",
      "4         0             In My Feelings\n",
      "6         0                  I Like It\n",
      "16        0       no tears left to cry\n",
      "17        0                          X\n",
      "22        0                       Mine\n",
      "31        0   Solo (feat. Demi Lovato)\n",
      "33        0                  Nevermind\n",
      "41        0                       Dura\n",
      "44        0                   Me Niego\n",
      "74        0      Him & I (with Halsey)\n",
      "78        0                   Criminal\n",
      "90        0  Promises (with Sam Smith)\n"
     ]
    }
   ],
   "source": [
    "print(cluster0)"
   ]
  },
  {
   "cell_type": "code",
   "execution_count": 18,
   "metadata": {},
   "outputs": [],
   "source": [
    "cluster1=df[df[\"cluster\"]==1]  #Δημιουργούμε το dataframe για τον cluster1 "
   ]
  },
  {
   "cell_type": "code",
   "execution_count": 19,
   "metadata": {},
   "outputs": [
    {
     "name": "stdout",
     "output_type": "stream",
     "text": [
      "    cluster                                            name\n",
      "7         1                        One Kiss (with Dua Lipa)\n",
      "8         1                                           IDGAF\n",
      "19        1                        Look Alive (feat. Drake)\n",
      "23        1                                      Youngblood\n",
      "24        1                                       New Rules\n",
      "30        1                            Taste (feat. Offset)\n",
      "34        1                                 ?chame La Culpa\n",
      "40        1                        River (feat. Ed Sheeran)\n",
      "42        1                                      SICKO MODE\n",
      "46        1                 Finesse (Remix) [feat. Cardi B]\n",
      "50        1                 Ric Flair Drip (& Metro Boomin)\n",
      "53        1               Freaky Friday (feat. Chris Brown)\n",
      "54        1                                        Believer\n",
      "55        1          FEFE (feat. Nicki Minaj & Murda Beatz)\n",
      "57        1                             Body (feat. brando)\n",
      "58        1                                   XO TOUR Llif3\n",
      "60        1                                            2002\n",
      "61        1                                         Nonstop\n",
      "62        1                  Fuck Love (feat. Trippie Redd)\n",
      "68        1                                  What Lovers Do\n",
      "69        1  Taki Taki (with Selena Gomez, Ozuna & Cardi B)\n",
      "71        1                                   Feel It Still\n",
      "72        1               Pray For Me (with Kendrick Lamar)\n",
      "73        1                                 Walk It Talk It\n",
      "77        1     1, 2, 3 (feat. Jason Derulo & De La Ghetto)\n",
      "79        1                                       Plug Walk\n",
      "81        1                                        Stir Fry\n",
      "82        1                                         HUMBLE.\n",
      "87        1                                S?guelo Bailando\n",
      "88        1                                        Downtown\n",
      "89        1                                           Bella\n",
      "91        1                                      Yes Indeed\n"
     ]
    }
   ],
   "source": [
    "print(cluster1)"
   ]
  },
  {
   "cell_type": "code",
   "execution_count": 20,
   "metadata": {},
   "outputs": [],
   "source": [
    "cluster2=df[df[\"cluster\"]==2]  #Δημιουργούμε το dataframe για τον cluster2"
   ]
  },
  {
   "cell_type": "code",
   "execution_count": 21,
   "metadata": {},
   "outputs": [
    {
     "name": "stdout",
     "output_type": "stream",
     "text": [
      "    cluster                                 name\n",
      "3         2         Psycho (feat. Ty Dolla $ign)\n",
      "13        2       Girls Like You (feat. Cardi B)\n",
      "18        2                            Moonlight\n",
      "21        2                      Te Bot? - Remix\n",
      "25        2                         Shape of You\n",
      "28        2                       Jocelyn Flores\n",
      "35        2      Eastside (with Halsey & Khalid)\n",
      "38        2                              changes\n",
      "52        2                 Too Good At Goodbyes\n",
      "75        2                          Candy Paint\n",
      "80        2                 lovely (with Khalid)\n",
      "84        2  Perfect Duet (Ed Sheeran & Beyonc?)\n",
      "92        2                     I Like Me Better\n",
      "94        2   Everybody Dies In Their Nightmares\n",
      "99        2                           Be Alright\n"
     ]
    }
   ],
   "source": [
    "print(cluster2)"
   ]
  },
  {
   "cell_type": "code",
   "execution_count": 22,
   "metadata": {},
   "outputs": [],
   "source": [
    "cluster3=df[df[\"cluster\"]==3]  #Δημιουργούμε το dataframe για τον cluster3"
   ]
  },
  {
   "cell_type": "code",
   "execution_count": 23,
   "metadata": {},
   "outputs": [
    {
     "name": "stdout",
     "output_type": "stream",
     "text": [
      "    cluster                                               name\n",
      "1         3                                               SAD!\n",
      "2         3                         rockstar (feat. 21 Savage)\n",
      "5         3                                         Better Now\n",
      "9         3                                            FRIENDS\n",
      "10        3                                             Havana\n",
      "11        3                                       Lucid Dreams\n",
      "12        3                                      Nice For What\n",
      "14        3                                         The Middle\n",
      "15        3                           All The Stars (with SZA)\n",
      "20        3  These Days (feat. Jess Glynne, Macklemore & Da...\n",
      "26        3                           Love Lies (with Normani)\n",
      "27        3           Meant to Be (feat. Florida Georgia Line)\n",
      "29        3                                            Perfect\n",
      "32        3                                       I Fall Apart\n",
      "36        3                                  Never Be the Same\n",
      "37        3                                             Wolves\n",
      "39        3                                         In My Mind\n",
      "43        3                                            Thunder\n",
      "45        3                                        Jackie Chan\n",
      "47        3  Back To You - From 13 Reasons Why ? Season 2 S...\n",
      "48        3                                       Let You Down\n",
      "49        3                                   Call Out My Name\n",
      "51        3                                            Happier\n",
      "56        3                                               Rise\n",
      "59        3                                         Sin Pijama\n",
      "63        3                                        In My Blood\n",
      "64        3                                            Silence\n",
      "65        3                                     God is a woman\n",
      "66        3            D?jala que vuelva (feat. Manuel Turizo)\n",
      "67        3                                             Flames\n",
      "70        3  Let Me Go (with Alesso, Florida Georgia Line &...\n",
      "76        3                                    Congratulations\n",
      "83        3                                         Vaina Loca\n",
      "85        3                      Coraz?n (feat. Nego do Borel)\n",
      "86        3                                 Young Dumb & Broke\n",
      "93        3                                         This Is Me\n",
      "95        3                                  Rewrite The Stars\n",
      "96        3                  I Miss You (feat. Julia Michaels)\n",
      "97        3                                         No Brainer\n",
      "98        3                        Dusk Till Dawn - Radio Edit\n"
     ]
    }
   ],
   "source": [
    "print(cluster3)"
   ]
  },
  {
   "cell_type": "code",
   "execution_count": 24,
   "metadata": {},
   "outputs": [
    {
     "name": "stdout",
     "output_type": "stream",
     "text": [
      "    cluster                                               name\n",
      "0         0                                         God's Plan\n",
      "1         3                                               SAD!\n",
      "2         3                         rockstar (feat. 21 Savage)\n",
      "3         2                       Psycho (feat. Ty Dolla $ign)\n",
      "4         0                                     In My Feelings\n",
      "5         3                                         Better Now\n",
      "6         0                                          I Like It\n",
      "7         1                           One Kiss (with Dua Lipa)\n",
      "8         1                                              IDGAF\n",
      "9         3                                            FRIENDS\n",
      "10        3                                             Havana\n",
      "11        3                                       Lucid Dreams\n",
      "12        3                                      Nice For What\n",
      "13        2                     Girls Like You (feat. Cardi B)\n",
      "14        3                                         The Middle\n",
      "15        3                           All The Stars (with SZA)\n",
      "16        0                               no tears left to cry\n",
      "17        0                                                  X\n",
      "18        2                                          Moonlight\n",
      "19        1                           Look Alive (feat. Drake)\n",
      "20        3  These Days (feat. Jess Glynne, Macklemore & Da...\n",
      "21        2                                    Te Bot? - Remix\n",
      "22        0                                               Mine\n",
      "23        1                                         Youngblood\n",
      "24        1                                          New Rules\n",
      "25        2                                       Shape of You\n",
      "26        3                           Love Lies (with Normani)\n",
      "27        3           Meant to Be (feat. Florida Georgia Line)\n",
      "28        2                                     Jocelyn Flores\n",
      "29        3                                            Perfect\n",
      "..      ...                                                ...\n",
      "70        3  Let Me Go (with Alesso, Florida Georgia Line &...\n",
      "71        1                                      Feel It Still\n",
      "72        1                  Pray For Me (with Kendrick Lamar)\n",
      "73        1                                    Walk It Talk It\n",
      "74        0                              Him & I (with Halsey)\n",
      "75        2                                        Candy Paint\n",
      "76        3                                    Congratulations\n",
      "77        1        1, 2, 3 (feat. Jason Derulo & De La Ghetto)\n",
      "78        0                                           Criminal\n",
      "79        1                                          Plug Walk\n",
      "80        2                               lovely (with Khalid)\n",
      "81        1                                           Stir Fry\n",
      "82        1                                            HUMBLE.\n",
      "83        3                                         Vaina Loca\n",
      "84        2                Perfect Duet (Ed Sheeran & Beyonc?)\n",
      "85        3                      Coraz?n (feat. Nego do Borel)\n",
      "86        3                                 Young Dumb & Broke\n",
      "87        1                                   S?guelo Bailando\n",
      "88        1                                           Downtown\n",
      "89        1                                              Bella\n",
      "90        0                          Promises (with Sam Smith)\n",
      "91        1                                         Yes Indeed\n",
      "92        2                                   I Like Me Better\n",
      "93        3                                         This Is Me\n",
      "94        2                 Everybody Dies In Their Nightmares\n",
      "95        3                                  Rewrite The Stars\n",
      "96        3                  I Miss You (feat. Julia Michaels)\n",
      "97        3                                         No Brainer\n",
      "98        3                        Dusk Till Dawn - Radio Edit\n",
      "99        2                                         Be Alright\n",
      "\n",
      "[100 rows x 2 columns]\n"
     ]
    }
   ],
   "source": [
    "print(df)"
   ]
  },
  {
   "cell_type": "code",
   "execution_count": 25,
   "metadata": {},
   "outputs": [
    {
     "name": "stdout",
     "output_type": "stream",
     "text": [
      "select a song from the list :\n"
     ]
    }
   ],
   "source": [
    "print('select a song from the list :') #Καλούμε τον χρήστη να επιλέξει ενα τραγούδι απο την λίστα με τα ονόματα για να δεί πια τραγουδια μοιάζουν με την επιλογή του"
   ]
  },
  {
   "cell_type": "code",
   "execution_count": 26,
   "metadata": {},
   "outputs": [],
   "source": [
    "ans=False"
   ]
  },
  {
   "cell_type": "code",
   "execution_count": 27,
   "metadata": {},
   "outputs": [
    {
     "name": "stdout",
     "output_type": "stream",
     "text": [
      "SAD!\n",
      "Done\n"
     ]
    }
   ],
   "source": [
    "while ans == False: #ελέγχουμε αν το τραγούδι ανήκει στην λίστα, αλλιώς ξανα πληκτρολογεί\n",
    "    inp=input()\n",
    "    if df['name'].isin([inp]).any() :\n",
    "        print('Done')\n",
    "        ans=True\n",
    "    else:\n",
    "      print(\"Try again :\")\n",
    "        \n",
    "  \n",
    "    "
   ]
  },
  {
   "cell_type": "code",
   "execution_count": 28,
   "metadata": {},
   "outputs": [
    {
     "name": "stdout",
     "output_type": "stream",
     "text": [
      "    cluster                                               name\n",
      "1         3                                               SAD!\n",
      "2         3                         rockstar (feat. 21 Savage)\n",
      "5         3                                         Better Now\n",
      "9         3                                            FRIENDS\n",
      "10        3                                             Havana\n",
      "11        3                                       Lucid Dreams\n",
      "12        3                                      Nice For What\n",
      "14        3                                         The Middle\n",
      "15        3                           All The Stars (with SZA)\n",
      "20        3  These Days (feat. Jess Glynne, Macklemore & Da...\n",
      "26        3                           Love Lies (with Normani)\n",
      "27        3           Meant to Be (feat. Florida Georgia Line)\n",
      "29        3                                            Perfect\n",
      "32        3                                       I Fall Apart\n",
      "36        3                                  Never Be the Same\n",
      "37        3                                             Wolves\n",
      "39        3                                         In My Mind\n",
      "43        3                                            Thunder\n",
      "45        3                                        Jackie Chan\n",
      "47        3  Back To You - From 13 Reasons Why ? Season 2 S...\n",
      "48        3                                       Let You Down\n",
      "49        3                                   Call Out My Name\n",
      "51        3                                            Happier\n",
      "56        3                                               Rise\n",
      "59        3                                         Sin Pijama\n",
      "63        3                                        In My Blood\n",
      "64        3                                            Silence\n",
      "65        3                                     God is a woman\n",
      "66        3            D?jala que vuelva (feat. Manuel Turizo)\n",
      "67        3                                             Flames\n",
      "70        3  Let Me Go (with Alesso, Florida Georgia Line &...\n",
      "76        3                                    Congratulations\n",
      "83        3                                         Vaina Loca\n",
      "85        3                      Coraz?n (feat. Nego do Borel)\n",
      "86        3                                 Young Dumb & Broke\n",
      "93        3                                         This Is Me\n",
      "95        3                                  Rewrite The Stars\n",
      "96        3                  I Miss You (feat. Julia Michaels)\n",
      "97        3                                         No Brainer\n",
      "98        3                        Dusk Till Dawn - Radio Edit\n"
     ]
    }
   ],
   "source": [
    "if cluster0['name'].isin([inp]).any(): #εμφάνιση αποτελεσμάτων \n",
    "    print(cluster0)\n",
    "elif cluster1['name'].isin([inp]).any():\n",
    "    print(cluster1)\n",
    "elif cluster2['name'].isin([inp]).any():\n",
    "    print(cluster2)\n",
    "else:\n",
    "    print(cluster3)"
   ]
  },
  {
   "cell_type": "code",
   "execution_count": null,
   "metadata": {},
   "outputs": [],
   "source": []
  },
  {
   "cell_type": "code",
   "execution_count": null,
   "metadata": {},
   "outputs": [],
   "source": []
  },
  {
   "cell_type": "code",
   "execution_count": null,
   "metadata": {},
   "outputs": [],
   "source": []
  }
 ],
 "metadata": {
  "kernelspec": {
   "display_name": "Python 3",
   "language": "python",
   "name": "python3"
  },
  "language_info": {
   "codemirror_mode": {
    "name": "ipython",
    "version": 3
   },
   "file_extension": ".py",
   "mimetype": "text/x-python",
   "name": "python",
   "nbconvert_exporter": "python",
   "pygments_lexer": "ipython3",
   "version": "3.7.0"
  }
 },
 "nbformat": 4,
 "nbformat_minor": 2
}
